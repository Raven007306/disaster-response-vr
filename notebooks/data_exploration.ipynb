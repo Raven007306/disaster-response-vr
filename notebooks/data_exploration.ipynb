{
 "cells": [
  {
   "cell_type": "markdown",
   "metadata": {},
   "source": [
    "# Data Exploration for Disaster Response VR/AR Project\n",
    "\n",
    "This notebook explores the various data sources we'll be using for our AI-Driven VR/AR Geospatial Analytics for Disaster Response project."
   ]
  },
  {
   "cell_type": "code",
   "execution_count": 1,
   "metadata": {},
   "outputs": [
    {
     "ename": "ModuleNotFoundError",
     "evalue": "No module named 'numpy'",
     "output_type": "error",
     "traceback": [
      "\u001b[31m---------------------------------------------------------------------------\u001b[39m",
      "\u001b[31mModuleNotFoundError\u001b[39m                       Traceback (most recent call last)",
      "\u001b[36mCell\u001b[39m\u001b[36m \u001b[39m\u001b[32mIn[1]\u001b[39m\u001b[32m, line 5\u001b[39m\n\u001b[32m      3\u001b[39m \u001b[38;5;28;01mimport\u001b[39;00m\u001b[38;5;250m \u001b[39m\u001b[34;01msys\u001b[39;00m\n\u001b[32m      4\u001b[39m \u001b[38;5;28;01mimport\u001b[39;00m\u001b[38;5;250m \u001b[39m\u001b[34;01mjson\u001b[39;00m\n\u001b[32m----> \u001b[39m\u001b[32m5\u001b[39m \u001b[38;5;28;01mimport\u001b[39;00m\u001b[38;5;250m \u001b[39m\u001b[34;01mnumpy\u001b[39;00m\u001b[38;5;250m \u001b[39m\u001b[38;5;28;01mas\u001b[39;00m\u001b[38;5;250m \u001b[39m\u001b[34;01mnp\u001b[39;00m\n\u001b[32m      6\u001b[39m \u001b[38;5;28;01mimport\u001b[39;00m\u001b[38;5;250m \u001b[39m\u001b[34;01mpandas\u001b[39;00m\u001b[38;5;250m \u001b[39m\u001b[38;5;28;01mas\u001b[39;00m\u001b[38;5;250m \u001b[39m\u001b[34;01mpd\u001b[39;00m\n\u001b[32m      7\u001b[39m \u001b[38;5;28;01mimport\u001b[39;00m\u001b[38;5;250m \u001b[39m\u001b[34;01mgeopandas\u001b[39;00m\u001b[38;5;250m \u001b[39m\u001b[38;5;28;01mas\u001b[39;00m\u001b[38;5;250m \u001b[39m\u001b[34;01mgpd\u001b[39;00m\n",
      "\u001b[31mModuleNotFoundError\u001b[39m: No module named 'numpy'"
     ]
    }
   ],
   "source": [
    "# Import necessary libraries\n",
    "import os\n",
    "import sys\n",
    "import json\n",
    "import numpy as np\n",
    "import pandas as pd\n",
    "import geopandas as gpd\n",
    "import matplotlib.pyplot as plt\n",
    "import rasterio\n",
    "from rasterio.plot import show\n",
    "from pathlib import Path\n",
    "\n",
    "# Add the project root to the path so we can import our modules\n",
    "project_root = Path().absolute().parent\n",
    "sys.path.append(str(project_root))\n",
    "\n",
    "# Import our custom modules\n",
    "# These will be uncommented as they are implemented\n",
    "# from src.data.collectors.bhuvan_collector import BhuvanCollector\n",
    "# from src.data.processors.image_processor import SatelliteImageProcessor"
   ]
  },
  {
   "cell_type": "markdown",
   "metadata": {},
   "source": [
    "## 1. Exploring Available Data Sources\n",
    "\n",
    "Let's explore the data sources we'll be using for this project."
   ]
  },
  {
   "cell_type": "code",
   "execution_count": null,
   "metadata": {},
   "outputs": [],
   "source": [
    "# Load API configuration\n",
    "config_path = project_root / \"config\" / \"api_keys.json\"\n",
    "try:\n",
    "    with open(config_path, 'r') as f:\n",
    "        config = json.load(f)\n",
    "    print(\"Available data sources:\")\n",
    "    for source in config.keys():\n",
    "        print(f\"- {source}\")\n",
    "except FileNotFoundError:\n",
    "    print(f\"Configuration file not found at {config_path}\")\n",
    "    print(\"Please create the file with your API keys.\")"
   ]
  },
  {
   "cell_type": "markdown",
   "metadata": {},
   "source": [
    "## 2. Sample Data Analysis\n",
    "\n",
    "Once we have collected some sample data, we can analyze it here."
   ]
  },
  {
   "cell_type": "code",
   "execution_count": null,
   "metadata": {},
   "outputs": [],
   "source": [
    "# This is a placeholder for loading and analyzing sample data\n",
    "# We'll implement this once we have collected some data\n",
    "\n",
    "# Example: Load a sample GeoTIFF file\n",
    "sample_path = project_root / \"data\" / \"raw\" / \"sample.tif\"\n",
    "if sample_path.exists():\n",
    "    with rasterio.open(sample_path) as src:\n",
    "        print(f\"CRS: {src.crs}\")\n",
    "        print(f\"Bounds: {src.bounds}\")\n",
    "        print(f\"Width x Height: {src.width} x {src.height}\")\n",
    "        print(f\"Number of bands: {src.count}\")\n",
    "        \n",
    "        # Plot the first band\n",
    "        plt.figure(figsize=(10, 10))\n",
    "        show(src.read(1), cmap='terrain')\n",
    "        plt.title(\"Sample DEM\")\n",
    "        plt.colorbar(label=\"Elevation (m)\")\n",
    "else:\n",
    "    print(f\"Sample file not found at {sample_path}\")"
   ]
  },
  {
   "cell_type": "markdown",
   "metadata": {},
   "source": [
    "## 3. Exploring ISRO Bhuvan Data\n",
    "\n",
    "Let's explore the data available from ISRO's Bhuvan portal."
   ]
  },
  {
   "cell_type": "code",
   "execution_count": 2,
   "metadata": {},
   "outputs": [
    {
     "ename": "ModuleNotFoundError",
     "evalue": "No module named 'src'",
     "output_type": "error",
     "traceback": [
      "\u001b[31m---------------------------------------------------------------------------\u001b[39m",
      "\u001b[31mModuleNotFoundError\u001b[39m                       Traceback (most recent call last)",
      "\u001b[36mCell\u001b[39m\u001b[36m \u001b[39m\u001b[32mIn[2]\u001b[39m\u001b[32m, line 2\u001b[39m\n\u001b[32m      1\u001b[39m \u001b[38;5;66;03m# This will be implemented once we have access to the Bhuvan API\u001b[39;00m\n\u001b[32m----> \u001b[39m\u001b[32m2\u001b[39m \u001b[38;5;28;01mfrom\u001b[39;00m\u001b[38;5;250m \u001b[39m\u001b[34;01msrc\u001b[39;00m\u001b[34;01m.\u001b[39;00m\u001b[34;01mdata\u001b[39;00m\u001b[34;01m.\u001b[39;00m\u001b[34;01mcollectors\u001b[39;00m\u001b[34;01m.\u001b[39;00m\u001b[34;01mbhuvan_collector\u001b[39;00m\u001b[38;5;250m \u001b[39m\u001b[38;5;28;01mimport\u001b[39;00m BhuvanCollector\n\u001b[32m      4\u001b[39m bhuvan = BhuvanCollector()\n\u001b[32m      5\u001b[39m \u001b[38;5;28;01mif\u001b[39;00m bhuvan.authenticate():\n",
      "\u001b[31mModuleNotFoundError\u001b[39m: No module named 'src'"
     ]
    }
   ],
   "source": [
    "# This will be implemented once we have access to the Bhuvan API\n",
    "from src.data.collectors.bhuvan_collector import BhuvanCollector\n",
    "\n",
    "bhuvan = BhuvanCollector()\n",
    "if bhuvan.authenticate():\n",
    "    print(\"Successfully authenticated with Bhuvan\")\n",
    "    \n",
    "    # Get available datasets\n",
    "    datasets = bhuvan.get_available_datasets()\n",
    "    print(f\"Found {len(datasets)} datasets\")\n",
    "    \n",
    "    # Display the first 5 datasets\n",
    "    for i, dataset in enumerate(datasets[:5]):\n",
    "        print(f\"Dataset {i+1}: {dataset['name']}\")\n",
    "        print(f\"  Description: {dataset.get('description', 'N/A')}\")\n",
    "        print(f\"  ID: {dataset.get('id', 'N/A')}\")\n",
    "        print()\n",
    "else:\n",
    "    print(\"Failed to authenticate with Bhuvan\")"
   ]
  },
  {
   "cell_type": "markdown",
   "metadata": {},
   "source": [
    "## 4. Exploring NASA Earth Data\n",
    "\n",
    "Let's explore the data available from NASA's Earth Data portal."
   ]
  },
  {
   "cell_type": "code",
   "execution_count": null,
   "metadata": {},
   "outputs": [],
   "source": [
    "# This will be implemented once we have access to the NASA Earth Data API\n",
    "# from src.data.collectors.nasa_collector import NASAEarthDataCollector\n",
    "# \n",
    "# nasa = NASAEarthDataCollector()\n",
    "# if nasa.authenticate():\n",
    "#     print(\"Successfully authenticated with NASA Earth Data\")\n",
    "#     \n",
    "#     # Search for datasets related to floods\n",
    "#     flood_datasets = nasa.search_datasets(\"flood\", start_date=\"2020-01-01\", end_date=\"2023-01-01\")\n",
    "#     print(f\"Found {len(flood_datasets)} flood-related datasets\")\n",
    "#     \n",
    "#     # Display the first 5 datasets\n",
    "#     for i, dataset in enumerate(flood_datasets[:5]):\n",
    "#         print(f\"Dataset {i+1}: {dataset['title']}\")\n",
    "#         print(f\"  Date: {dataset.get('date', 'N/A')}\")\n",
    "#         print(f\"  ID: {dataset.get('id', 'N/A')}\")\n",
    "#         print()\n",
    "# else:\n",
    "#     print(\"Failed to authenticate with NASA Earth Data\")"
   ]
  },
  {
   "cell_type": "markdown",
   "metadata": {},
   "source": [
    "## 5. Exploring Copernicus Data\n",
    "\n",
    "Let's explore the data available from the Copernicus program."
   ]
  },
  {
   "cell_type": "code",
   "execution_count": null,
   "metadata": {},
   "outputs": [],
   "source": [
    "# This will be implemented once we have access to the Copernicus API\n",
    "# We'll need to create a Copernicus collector module first\n",
    "# \n",
    "# from src.data.collectors.copernicus_collector import CopernicusCollector\n",
    "# \n",
    "# copernicus = CopernicusCollector()\n",
    "# if copernicus.authenticate():\n",
    "#     print(\"Successfully authenticated with Copernicus\")\n",
    "#     \n",
    "#     # Search for Sentinel-2 imagery\n",
    "#     sentinel_data = copernicus.search_datasets(\n",
    "#         dataset=\"Sentinel-2\",\n",
    "#         start_date=\"2022-01-01\",\n",
    "#         end_date=\"2022-12-31\",\n",
    "#         bbox=[70, 8, 97, 37]  # Rough bounding box for India\n",
    "#     )\n",
    "#     \n",
    "#     print(f\"Found {len(sentinel_data)} Sentinel-2 images\")\n",
    "# else:\n",
    "#     print(\"Failed to authenticate with Copernicus\")"
   ]
  },
  {
   "cell_type": "markdown",
   "metadata": {},
   "source": [
    "## 6. DEM Analysis\n",
    "\n",
    "Let's analyze Digital Elevation Models (DEMs) for terrain analysis."
   ]
  },
  {
   "cell_type": "code",
   "execution_count": null,
   "metadata": {},
   "outputs": [],
   "source": [
    "# This will be implemented once we have sample DEM data\n",
    "# from src.data.processors.dem_processor import DEMProcessor\n",
    "# \n",
    "# dem_processor = DEMProcessor()\n",
    "# dem_path = project_root / \"data\" / \"raw\" / \"sample_dem.tif\"\n",
    "# \n",
    "# if dem_path.exists():\n",
    "#     # Load the DEM\n",
    "#     dem_data, metadata = dem_processor.load_dem(dem_path)\n",
    "#     \n",
    "#     # Calculate slope and aspect\n",
    "#     slope = dem_processor.calculate_slope(dem_data, metadata)\n",
    "#     aspect = dem_processor.calculate_aspect(dem_data, metadata)\n",
    "#     \n",
    "#     # Plot the DEM, slope, and aspect\n",
    "#     fig, axes = plt.subplots(1, 3, figsize=(18, 6))\n",
    "#     \n",
    "#     im1 = axes[0].imshow(dem_data, cmap='terrain')\n",
    "#     axes[0].set_title(\"Digital Elevation Model\")\n",
    "#     plt.colorbar(im1, ax=axes[0], label=\"Elevation (m)\")\n",
    "#     \n",
    "#     im2 = axes[1].imshow(slope, cmap='YlOrRd')\n",
    "#     axes[1].set_title(\"Slope\")\n",
    "#     plt.colorbar(im2, ax=axes[1], label=\"Degrees\")\n",
    "#     \n",
    "#     im3 = axes[2].imshow(aspect, cmap='hsv')\n",
    "#     axes[2].set_title(\"Aspect\")\n",
    "#     plt.colorbar(im3, ax=axes[2])\n",
    "#     \n",
    "#     plt.tight_layout()\n",
    "# else:\n",
    "#     print(f\"Sample DEM not found at {dem_path}\")"
   ]
  },
  {
   "cell_type": "markdown",
   "metadata": {},
   "source": [
    "## 7. Satellite Image Analysis\n",
    "\n",
    "Let's analyze satellite imagery for disaster detection."
   ]
  },
  {
   "cell_type": "code",
   "execution_count": null,
   "metadata": {},
   "outputs": [],
   "source": [
    "# This will be implemented once we have sample satellite imagery\n",
    "# from src.data.processors.image_processor import SatelliteImageProcessor\n",
    "# \n",
    "# image_processor = SatelliteImageProcessor()\n",
    "# image_path = project_root / \"data\" / \"raw\" / \"sample_satellite.tif\"\n",
    "# \n",
    "# if image_path.exists():\n",
    "#     # Load the image\n",
    "#     image_data, metadata = image_processor.load_image(image_path)\n",
    "#     \n",
    "#     # Display the RGB composite (assuming bands 3,2,1 are RGB)\n",
    "#     rgb = np.dstack((image_data[2], image_data[1], image_data[0]))\n",
    "#     \n",
    "#     # Normalize for display\n",
    "#     rgb_norm = rgb / rgb.max()\n",
    "#     \n",
    "#     plt.figure(figsize=(10, 10))\n",
    "#     plt.imshow(rgb_norm)\n",
    "#     plt.title(\"RGB Composite\")\n",
    "#     \n",
    "#     # Calculate NDVI (assuming band 4 is NIR and band 3 is Red)\n",
    "#     ndvi = image_processor.extract_ndvi(image_data, red_band_index=2, nir_band_index=3)\n",
    "#     \n",
    "#     # Calculate NDWI (assuming band 1 is Green and band 4 is NIR)\n",
    "#     ndwi = image_processor.extract_water_index(image_data, green_band_index=1, nir_band_index=3)\n",
    "#     \n",
    "#     # Plot NDVI and NDWI\n",
    "#     fig, axes = plt.subplots(1, 2, figsize=(16, 8))\n",
    "#     \n",
    "#     im1 = axes[0].imshow(ndvi, cmap='RdYlGn', vmin=-1, vmax=1)\n",
    "#     axes[0].set_title(\"NDVI (Vegetation Index)\")\n",
    "#     plt.colorbar(im1, ax=axes[0])\n",
    "#     \n",
    "#     im2 = axes[1].imshow(ndwi, cmap='Blues', vmin=-1, vmax=1)\n",
    "#     axes[1].set_title(\"NDWI (Water Index)\")\n",
    "#     plt.colorbar(im2, ax=axes[1])\n",
    "#     \n",
    "#     plt.tight_layout()\n",
    "# else:\n",
    "#     print(f\"Sample satellite image not found at {image_path}\")"
   ]
  },
  {
   "cell_type": "markdown",
   "metadata": {},
   "source": [
    "## 8. Next Steps\n",
    "\n",
    "Based on this exploration, our next steps are:\n",
    "\n",
    "1. Collect real data from ISRO Bhuvan and NASA Earth Data\n",
    "2. Preprocess the data for analysis\n",
    "3. Develop AI models for disaster detection\n",
    "4. Create VR/AR visualizations of the data\n",
    "5. Integrate the components into a complete system"
   ]
  }
 ],
 "metadata": {
  "kernelspec": {
   "display_name": "Python 3 (ipykernel)",
   "language": "python",
   "name": "python3"
  },
  "language_info": {
   "codemirror_mode": {
    "name": "ipython",
    "version": 3
   },
   "file_extension": ".py",
   "mimetype": "text/x-python",
   "name": "python",
   "nbconvert_exporter": "python",
   "pygments_lexer": "ipython3",
   "version": "3.13.2"
  }
 },
 "nbformat": 4,
 "nbformat_minor": 4
}
